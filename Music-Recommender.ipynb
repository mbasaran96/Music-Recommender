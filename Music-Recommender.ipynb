{
 "cells": [
  {
   "cell_type": "code",
   "execution_count": 5,
   "id": "e5d46be6",
   "metadata": {},
   "outputs": [
    {
     "name": "stderr",
     "output_type": "stream",
     "text": [
      "/opt/anaconda3/lib/python3.11/site-packages/sklearn/base.py:493: UserWarning: X does not have valid feature names, but DecisionTreeClassifier was fitted with feature names\n",
      "  warnings.warn(\n"
     ]
    }
   ],
   "source": [
    "import pandas as pd # gain access to many functions for performing data analysis in Python\n",
    "from sklearn.tree import DecisionTreeClassifier # Define the algorithm used for this model - Decision Tree\n",
    "from sklearn.model_selection import train_test_split #split our data in training and test set\n",
    "from sklearn.metrics import accuracy_score # used to calculate the accuracy\n",
    "from sklearn import tree\n",
    "\n",
    "# Load the dataset\n",
    "music_data = pd.read_csv('music.csv') \n",
    "\n",
    "# Define input set (X) and target set (y)\n",
    "X = music_data.drop(columns=['genre']) # Create an input set of our data\n",
    "y = music_data['genre'] # Create an output set of our data\n",
    "\n",
    "# Split the data into training and test sets\n",
    "X_train, X_test, y_train, y_test = train_test_split(X, y, test_size=0.2) # 80% of the data is used to train the model\n",
    "\n",
    "# Initialize and train the model\n",
    "model = DecisionTreeClassifier()\n",
    "model.fit(X_train, y_train) # we want to pass the training data set into our model\n",
    "\n",
    "# Make predictions on the test set\n",
    "predictions = model.predict(X_test)\n",
    "\n",
    "# Evaluate the model's accuracy\n",
    "score = accuracy_score(y_test, predictions) # score based on the expected values and the actual values\n",
    "\n",
    "# Make a single prediction for a given input\n",
    "sample_input = [[21,1]] # Example: 21-year-old male\n",
    "single_prediction = model.predict(sample_input)\n",
    "\n",
    "# Export the visualization and set up all parameters\n",
    "\n",
    "tree.export_graphviz(model, out_file='music-recommender_visualization.dot',\n",
    "                    feature_names=['age', 'gender'],\n",
    "                    class_names=sorted(y.unique()),\n",
    "                    label='all',\n",
    "                    rounded=True,\n",
    "                    filled=True)\n"
   ]
  },
  {
   "cell_type": "code",
   "execution_count": null,
   "id": "751b2d2c",
   "metadata": {},
   "outputs": [],
   "source": []
  }
 ],
 "metadata": {
  "kernelspec": {
   "display_name": "Python 3 (ipykernel)",
   "language": "python",
   "name": "python3"
  },
  "language_info": {
   "codemirror_mode": {
    "name": "ipython",
    "version": 3
   },
   "file_extension": ".py",
   "mimetype": "text/x-python",
   "name": "python",
   "nbconvert_exporter": "python",
   "pygments_lexer": "ipython3",
   "version": "3.11.7"
  }
 },
 "nbformat": 4,
 "nbformat_minor": 5
}
